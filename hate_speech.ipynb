{
 "cells": [
  {
   "cell_type": "code",
   "execution_count": 5,
   "metadata": {},
   "outputs": [
    {
     "name": "stdout",
     "output_type": "stream",
     "text": [
      "Filtered data saved as 'filtered_hate_speech_data.csv'\n"
     ]
    }
   ],
   "source": [
    "import torch\n",
    "from transformers import AutoTokenizer, AutoModelForSequenceClassification\n",
    "import pandas as pd\n",
    "\n",
    "# 혐오 발언 탐지 모델 로드\n",
    "MODEL_NAME = \"smilegate-ai/kor_unsmile\"\n",
    "TOKENIZER = AutoTokenizer.from_pretrained(MODEL_NAME)\n",
    "MODEL = AutoModelForSequenceClassification.from_pretrained(MODEL_NAME)\n",
    "MODEL.eval()\n",
    "\n",
    "# GPU 사용 여부 확인\n",
    "device = torch.device(\"cuda\" if torch.cuda.is_available() else \"cpu\")\n",
    "MODEL.to(device)\n",
    "\n",
    "# 혐오 발언 분석 함수 정의 (토큰 길이 제한 추가)\n",
    "def predict_hate_speech(text):\n",
    "    inputs = TOKENIZER(text, return_tensors=\"pt\", truncation=True, padding=True, max_length=300)  # 최대 300 토큰\n",
    "    inputs = {key: value.to(device) for key, value in inputs.items()}  # GPU로 이동\n",
    "    with torch.no_grad():\n",
    "        outputs = MODEL(**inputs)\n",
    "    scores = torch.sigmoid(outputs.logits)  # 확률값 변환 (각 클래스의 가능성)\n",
    "    hate_score = scores[0][0].item()  # 혐오 발언 점수 (0~1 사이 값)\n",
    "    return hate_score  # 높은 값일수록 혐오적\n",
    "\n",
    "# CSV 데이터 로드\n",
    "file_path = \"daily_conversation_generated_10000.csv\"\n",
    "df = pd.read_csv(file_path)\n",
    "\n",
    "# 혐오 발언 점수 계산 및 필터링 (임계값 0.5 이상인 문장 제거)\n",
    "threshold = 0.01\n",
    "df[\"hate_score\"] = df[\"generated_dialogue\"].apply(lambda x: predict_hate_speech(str(x)) if isinstance(x, str) else 0)  # 문자열이 아닌 경우 예외 처리\n",
    "filtered_df = df[df[\"hate_score\"] < threshold]  # 혐오 발언 포함 문장 제외\n",
    "\n",
    "# 결과 확인\n",
    "filtered_df.to_csv(\"filtered_hate_speech_data.csv\", index=False)\n",
    "print(\"Filtered data saved as 'filtered_hate_speech_data.csv'\")\n"
   ]
  },
  {
   "cell_type": "code",
   "execution_count": null,
   "metadata": {},
   "outputs": [],
   "source": []
  }
 ],
 "metadata": {
  "kernelspec": {
   "display_name": "Python 3",
   "language": "python",
   "name": "python3"
  },
  "language_info": {
   "codemirror_mode": {
    "name": "ipython",
    "version": 3
   },
   "file_extension": ".py",
   "mimetype": "text/x-python",
   "name": "python",
   "nbconvert_exporter": "python",
   "pygments_lexer": "ipython3",
   "version": "3.11.0"
  }
 },
 "nbformat": 4,
 "nbformat_minor": 2
}

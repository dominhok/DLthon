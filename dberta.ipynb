{
 "cells": [
  {
   "cell_type": "code",
   "execution_count": 8,
   "metadata": {},
   "outputs": [
    {
     "name": "stdout",
     "output_type": "stream",
     "text": [
      "Torch Version: 2.6.0+cu126\n",
      "Transformers Version: 4.49.0\n",
      "Datasets Version: 3.3.1\n",
      "Pandas Version: 2.2.3\n",
      "Numpy Version: 1.26.3\n",
      "Scikit-learn Version: 1.6.1\n",
      "CUDA Available: True\n",
      "CUDA Version: 12.6\n",
      "CuDNN Available: True\n",
      "CuDNN Version: 90501\n"
     ]
    }
   ],
   "source": [
    "import torch\n",
    "import transformers\n",
    "import datasets\n",
    "import pandas as pd\n",
    "import numpy as np\n",
    "import sklearn\n",
    "\n",
    "print(\"Torch Version:\", torch.__version__)\n",
    "print(\"Transformers Version:\", transformers.__version__)\n",
    "print(\"Datasets Version:\", datasets.__version__)\n",
    "print(\"Pandas Version:\", pd.__version__)\n",
    "print(\"Numpy Version:\", np.__version__)\n",
    "print(\"Scikit-learn Version:\", sklearn.__version__)\n",
    "\n",
    "print(\"CUDA Available:\", torch.cuda.is_available())  # GPU 사용 가능 여부\n",
    "print(\"CUDA Version:\", torch.version.cuda)  # PyTorch에서 인식하는 CUDA 버전\n",
    "print(\"CuDNN Available:\", torch.backends.cudnn.is_available())  # CuDNN 사용 여부\n",
    "print(\"CuDNN Version:\", torch.backends.cudnn.version())  # CuDNN 버전"
   ]
  },
  {
   "cell_type": "code",
   "execution_count": 11,
   "metadata": {},
   "outputs": [
    {
     "name": "stderr",
     "output_type": "stream",
     "text": [
      "c:\\Users\\minho\\AppData\\Local\\Programs\\Python\\Python311\\Lib\\site-packages\\huggingface_hub\\file_download.py:140: UserWarning: `huggingface_hub` cache-system uses symlinks by default to efficiently store duplicated files but your machine does not support them in C:\\Users\\minho\\.cache\\huggingface\\hub\\models--monologg--koelectra-base-v3-discriminator. Caching files will still work but in a degraded version that might require more space on your disk. This warning can be disabled by setting the `HF_HUB_DISABLE_SYMLINKS_WARNING` environment variable. For more details, see https://huggingface.co/docs/huggingface_hub/how-to-cache#limitations.\n",
      "To support symlinks on Windows, you either need to activate Developer Mode or to run Python as an administrator. In order to activate developer mode, see this article: https://docs.microsoft.com/en-us/windows/apps/get-started/enable-your-device-for-development\n",
      "  warnings.warn(message)\n",
      "Map: 100%|██████████| 3960/3960 [00:00<00:00, 15899.91 examples/s]\n",
      "Map: 100%|██████████| 990/990 [00:00<00:00, 15883.26 examples/s]\n"
     ]
    }
   ],
   "source": [
    "import pandas as pd\n",
    "import torch\n",
    "from datasets import Dataset\n",
    "from transformers import AutoModelForSequenceClassification, AutoTokenizer, Trainer, TrainingArguments\n",
    "from sklearn.model_selection import train_test_split\n",
    "from sklearn.preprocessing import LabelEncoder\n",
    "\n",
    "# CSV 데이터 로드\n",
    "file_path = \"train.csv\"\n",
    "df = pd.read_csv(file_path)\n",
    "\n",
    "# 텍스트 정제 (불필요한 개행문자, 공백 제거)\n",
    "df[\"text\"] = df[\"text\"].astype(str).str.replace(r'\\n', ' ', regex=True).str.strip()\n",
    "\n",
    "# 레이블 인코딩 (클래스가 숫자형이면 필요 없음)\n",
    "label_encoder = LabelEncoder()\n",
    "df[\"class\"] = label_encoder.fit_transform(df[\"class\"])\n",
    "\n",
    "# Train/Test 데이터 분할\n",
    "train_texts, test_texts, train_labels, test_labels = train_test_split(df[\"text\"], df[\"class\"], test_size=0.2, random_state=42)\n",
    "\n",
    "# ELECTRA 모델 지정 (한국어 지원 모델 선택 가능)\n",
    "MODEL_NAME = \"monologg/koelectra-base-v3-discriminator\"\n",
    "tokenizer = AutoTokenizer.from_pretrained(MODEL_NAME)\n",
    "\n",
    "# 토크나이징 함수 정의\n",
    "def tokenize_function(examples):\n",
    "    return tokenizer(examples[\"text\"], truncation=True, padding=\"max_length\", max_length=128)\n",
    "\n",
    "# Hugging Face Dataset 형식 변환\n",
    "train_dataset = Dataset.from_dict({\"text\": train_texts.tolist(), \"label\": train_labels.tolist()})\n",
    "test_dataset = Dataset.from_dict({\"text\": test_texts.tolist(), \"label\": test_labels.tolist()})\n",
    "\n",
    "# 토크나이징 적용\n",
    "train_dataset = train_dataset.map(tokenize_function, batched=True)\n",
    "test_dataset = test_dataset.map(tokenize_function, batched=True)"
   ]
  },
  {
   "cell_type": "code",
   "execution_count": 25,
   "metadata": {},
   "outputs": [
    {
     "name": "stderr",
     "output_type": "stream",
     "text": [
      "Some weights of ElectraForSequenceClassification were not initialized from the model checkpoint at monologg/koelectra-base-v3-discriminator and are newly initialized: ['classifier.dense.bias', 'classifier.dense.weight', 'classifier.out_proj.bias', 'classifier.out_proj.weight']\n",
      "You should probably TRAIN this model on a down-stream task to be able to use it for predictions and inference.\n",
      "c:\\Users\\minho\\AppData\\Local\\Programs\\Python\\Python311\\Lib\\site-packages\\transformers\\training_args.py:1594: FutureWarning: `evaluation_strategy` is deprecated and will be removed in version 4.46 of 🤗 Transformers. Use `eval_strategy` instead\n",
      "  warnings.warn(\n",
      "C:\\Users\\minho\\AppData\\Local\\Temp\\ipykernel_1520\\1044126390.py:19: FutureWarning: `tokenizer` is deprecated and will be removed in version 5.0.0 for `Trainer.__init__`. Use `processing_class` instead.\n",
      "  trainer = Trainer(\n"
     ]
    },
    {
     "data": {
      "text/html": [
       "\n",
       "    <div>\n",
       "      \n",
       "      <progress value='4950' max='4950' style='width:300px; height:20px; vertical-align: middle;'></progress>\n",
       "      [4950/4950 05:11, Epoch 10/10]\n",
       "    </div>\n",
       "    <table border=\"1\" class=\"dataframe\">\n",
       "  <thead>\n",
       " <tr style=\"text-align: left;\">\n",
       "      <th>Epoch</th>\n",
       "      <th>Training Loss</th>\n",
       "      <th>Validation Loss</th>\n",
       "    </tr>\n",
       "  </thead>\n",
       "  <tbody>\n",
       "    <tr>\n",
       "      <td>1</td>\n",
       "      <td>0.485600</td>\n",
       "      <td>0.811021</td>\n",
       "    </tr>\n",
       "    <tr>\n",
       "      <td>2</td>\n",
       "      <td>0.219400</td>\n",
       "      <td>0.556302</td>\n",
       "    </tr>\n",
       "    <tr>\n",
       "      <td>3</td>\n",
       "      <td>0.129400</td>\n",
       "      <td>0.749307</td>\n",
       "    </tr>\n",
       "    <tr>\n",
       "      <td>4</td>\n",
       "      <td>0.277700</td>\n",
       "      <td>0.639332</td>\n",
       "    </tr>\n",
       "    <tr>\n",
       "      <td>5</td>\n",
       "      <td>0.004300</td>\n",
       "      <td>0.687807</td>\n",
       "    </tr>\n",
       "    <tr>\n",
       "      <td>6</td>\n",
       "      <td>0.001800</td>\n",
       "      <td>0.736099</td>\n",
       "    </tr>\n",
       "    <tr>\n",
       "      <td>7</td>\n",
       "      <td>0.008200</td>\n",
       "      <td>0.879045</td>\n",
       "    </tr>\n",
       "    <tr>\n",
       "      <td>8</td>\n",
       "      <td>0.000900</td>\n",
       "      <td>0.857468</td>\n",
       "    </tr>\n",
       "    <tr>\n",
       "      <td>9</td>\n",
       "      <td>0.000900</td>\n",
       "      <td>0.848110</td>\n",
       "    </tr>\n",
       "    <tr>\n",
       "      <td>10</td>\n",
       "      <td>0.000900</td>\n",
       "      <td>0.847543</td>\n",
       "    </tr>\n",
       "  </tbody>\n",
       "</table><p>"
      ],
      "text/plain": [
       "<IPython.core.display.HTML object>"
      ]
     },
     "metadata": {},
     "output_type": "display_data"
    },
    {
     "data": {
      "text/plain": [
       "TrainOutput(global_step=4950, training_loss=0.16789742789974418, metrics={'train_runtime': 311.8689, 'train_samples_per_second': 126.976, 'train_steps_per_second': 15.872, 'total_flos': 2604869610393600.0, 'train_loss': 0.16789742789974418, 'epoch': 10.0})"
      ]
     },
     "execution_count": 25,
     "metadata": {},
     "output_type": "execute_result"
    }
   ],
   "source": [
    "# ELECTRA 모델 로드 (분류 문제를 위한 모델)\n",
    "model = AutoModelForSequenceClassification.from_pretrained(MODEL_NAME, num_labels=len(set(df[\"class\"])))\n",
    "\n",
    "# TrainingArguments 설정\n",
    "training_args = TrainingArguments(\n",
    "    output_dir=\"./electra_results\",\n",
    "    evaluation_strategy=\"epoch\",\n",
    "    save_strategy=\"epoch\",\n",
    "    per_device_train_batch_size=8,\n",
    "    per_device_eval_batch_size=8,\n",
    "    num_train_epochs=10,\n",
    "    weight_decay=0.01,\n",
    "    logging_dir=\"./logs\",\n",
    "    logging_steps=10,\n",
    "    report_to=\"none\",\n",
    ")\n",
    "\n",
    "# Trainer 객체 생성\n",
    "trainer = Trainer(\n",
    "    model=model,\n",
    "    args=training_args,\n",
    "    train_dataset=train_dataset,\n",
    "    eval_dataset=test_dataset,\n",
    "    tokenizer=tokenizer,\n",
    ")\n",
    "\n",
    "# 학습 시작\n",
    "trainer.train()"
   ]
  },
  {
   "cell_type": "code",
   "execution_count": 26,
   "metadata": {},
   "outputs": [
    {
     "data": {
      "text/plain": [
       "('./electra_trained\\\\tokenizer_config.json',\n",
       " './electra_trained\\\\special_tokens_map.json',\n",
       " './electra_trained\\\\vocab.txt',\n",
       " './electra_trained\\\\added_tokens.json',\n",
       " './electra_trained\\\\tokenizer.json')"
      ]
     },
     "execution_count": 26,
     "metadata": {},
     "output_type": "execute_result"
    }
   ],
   "source": [
    "# 모델 저장\n",
    "model.save_pretrained(\"./electra_trained\")\n",
    "tokenizer.save_pretrained(\"./electra_trained\")"
   ]
  },
  {
   "cell_type": "code",
   "execution_count": 27,
   "metadata": {},
   "outputs": [],
   "source": [
    "from sklearn.metrics import f1_score\n",
    "\n",
    "# ✅ 테스트 데이터 로드\n",
    "test_file_path = \"test.csv\"\n",
    "test_df = pd.read_csv(test_file_path)\n",
    "\n",
    "# 텍스트 정제 (불필요한 개행 문자 제거)\n",
    "test_df[\"text\"] = test_df[\"text\"].astype(str).str.replace(r'\\n', ' ', regex=True).str.strip()"
   ]
  },
  {
   "cell_type": "code",
   "execution_count": 28,
   "metadata": {},
   "outputs": [
    {
     "name": "stdout",
     "output_type": "stream",
     "text": [
      "cuda\n"
     ]
    },
    {
     "data": {
      "text/plain": [
       "ElectraForSequenceClassification(\n",
       "  (electra): ElectraModel(\n",
       "    (embeddings): ElectraEmbeddings(\n",
       "      (word_embeddings): Embedding(35000, 768, padding_idx=0)\n",
       "      (position_embeddings): Embedding(512, 768)\n",
       "      (token_type_embeddings): Embedding(2, 768)\n",
       "      (LayerNorm): LayerNorm((768,), eps=1e-12, elementwise_affine=True)\n",
       "      (dropout): Dropout(p=0.1, inplace=False)\n",
       "    )\n",
       "    (encoder): ElectraEncoder(\n",
       "      (layer): ModuleList(\n",
       "        (0-11): 12 x ElectraLayer(\n",
       "          (attention): ElectraAttention(\n",
       "            (self): ElectraSelfAttention(\n",
       "              (query): Linear(in_features=768, out_features=768, bias=True)\n",
       "              (key): Linear(in_features=768, out_features=768, bias=True)\n",
       "              (value): Linear(in_features=768, out_features=768, bias=True)\n",
       "              (dropout): Dropout(p=0.1, inplace=False)\n",
       "            )\n",
       "            (output): ElectraSelfOutput(\n",
       "              (dense): Linear(in_features=768, out_features=768, bias=True)\n",
       "              (LayerNorm): LayerNorm((768,), eps=1e-12, elementwise_affine=True)\n",
       "              (dropout): Dropout(p=0.1, inplace=False)\n",
       "            )\n",
       "          )\n",
       "          (intermediate): ElectraIntermediate(\n",
       "            (dense): Linear(in_features=768, out_features=3072, bias=True)\n",
       "            (intermediate_act_fn): GELUActivation()\n",
       "          )\n",
       "          (output): ElectraOutput(\n",
       "            (dense): Linear(in_features=3072, out_features=768, bias=True)\n",
       "            (LayerNorm): LayerNorm((768,), eps=1e-12, elementwise_affine=True)\n",
       "            (dropout): Dropout(p=0.1, inplace=False)\n",
       "          )\n",
       "        )\n",
       "      )\n",
       "    )\n",
       "  )\n",
       "  (classifier): ElectraClassificationHead(\n",
       "    (dense): Linear(in_features=768, out_features=768, bias=True)\n",
       "    (activation): GELUActivation()\n",
       "    (dropout): Dropout(p=0.1, inplace=False)\n",
       "    (out_proj): Linear(in_features=768, out_features=5, bias=True)\n",
       "  )\n",
       ")"
      ]
     },
     "execution_count": 28,
     "metadata": {},
     "output_type": "execute_result"
    }
   ],
   "source": [
    "# ✅ 저장된 ELECTRA 모델과 토크나이저 로드\n",
    "MODEL_PATH = \"./electra_trained\"  # 학습된 모델이 저장된 경로\n",
    "tokenizer = AutoTokenizer.from_pretrained(MODEL_PATH)\n",
    "model = AutoModelForSequenceClassification.from_pretrained(MODEL_PATH)\n",
    "\n",
    "# ✅ 🚀 GPU 사용 설정 (CUDA 사용)\n",
    "device = torch.device(\"cuda\" if torch.cuda.is_available() else \"cpu\")\n",
    "print(device)\n",
    "model.to(device)\n",
    "model.eval()"
   ]
  },
  {
   "cell_type": "code",
   "execution_count": 29,
   "metadata": {},
   "outputs": [],
   "source": [
    "# ✅ 토큰화 함수 정의\n",
    "def tokenize_function(texts):\n",
    "    return tokenizer(texts, truncation=True, padding=\"max_length\", max_length=128, return_tensors=\"pt\")\n",
    "\n",
    "# ✅ 데이터 토큰화 및 입력 데이터 준비\n",
    "tokenized_data = tokenize_function(test_df[\"text\"].tolist())\n",
    "\n",
    "# 입력 데이터를 GPU로 이동\n",
    "tokenized_data = {key: val.to(device) for key, val in tokenized_data.items()}\n",
    "\n",
    "# ✅ 모델 추론 (예측 수행)\n",
    "with torch.no_grad():\n",
    "    outputs = model(**tokenized_data)\n",
    "    predictions = torch.argmax(outputs.logits, dim=-1).cpu().numpy()\n",
    "\n",
    "# ✅ 예측 결과 저장\n",
    "test_df[\"predicted_class\"] = predictions"
   ]
  },
  {
   "cell_type": "code",
   "execution_count": 30,
   "metadata": {},
   "outputs": [
    {
     "name": "stdout",
     "output_type": "stream",
     "text": [
      "✅ F1-score: 0.8584\n"
     ]
    }
   ],
   "source": [
    "# ✅ F1-score 계산 (실제 라벨이 존재할 경우)\n",
    "if \"class\" in test_df.columns:\n",
    "    true_labels = test_df[\"class\"].values\n",
    "    f1 = f1_score(true_labels, predictions, average=\"weighted\")\n",
    "    print(f\"✅ F1-score: {f1:.4f}\")\n",
    "else:\n",
    "    print(\"⚠️ 'class' 컬럼이 없어서 F1-score를 계산할 수 없습니다.\")"
   ]
  }
 ],
 "metadata": {
  "kernelspec": {
   "display_name": "Python 3",
   "language": "python",
   "name": "python3"
  },
  "language_info": {
   "codemirror_mode": {
    "name": "ipython",
    "version": 3
   },
   "file_extension": ".py",
   "mimetype": "text/x-python",
   "name": "python",
   "nbconvert_exporter": "python",
   "pygments_lexer": "ipython3",
   "version": "3.11.0"
  }
 },
 "nbformat": 4,
 "nbformat_minor": 2
}
